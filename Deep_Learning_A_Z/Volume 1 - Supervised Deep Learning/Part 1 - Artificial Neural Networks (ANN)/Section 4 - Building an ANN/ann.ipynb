{
 "cells": [
  {
   "cell_type": "code",
   "execution_count": 1,
   "metadata": {},
   "outputs": [],
   "source": [
    "import numpy as np\n",
    "import pandas as pd\n",
    "import matplotlib.pyplot as plt\n",
    "%matplotlib inline"
   ]
  },
  {
   "cell_type": "code",
   "execution_count": 2,
   "metadata": {},
   "outputs": [],
   "source": [
    "dataset = pd.read_csv('Churn_Modelling.csv')"
   ]
  },
  {
   "cell_type": "code",
   "execution_count": 3,
   "metadata": {},
   "outputs": [
    {
     "data": {
      "text/html": [
       "<div>\n",
       "<style scoped>\n",
       "    .dataframe tbody tr th:only-of-type {\n",
       "        vertical-align: middle;\n",
       "    }\n",
       "\n",
       "    .dataframe tbody tr th {\n",
       "        vertical-align: top;\n",
       "    }\n",
       "\n",
       "    .dataframe thead th {\n",
       "        text-align: right;\n",
       "    }\n",
       "</style>\n",
       "<table border=\"1\" class=\"dataframe\">\n",
       "  <thead>\n",
       "    <tr style=\"text-align: right;\">\n",
       "      <th></th>\n",
       "      <th>RowNumber</th>\n",
       "      <th>CustomerId</th>\n",
       "      <th>Surname</th>\n",
       "      <th>CreditScore</th>\n",
       "      <th>Geography</th>\n",
       "      <th>Gender</th>\n",
       "      <th>Age</th>\n",
       "      <th>Tenure</th>\n",
       "      <th>Balance</th>\n",
       "      <th>NumOfProducts</th>\n",
       "      <th>HasCrCard</th>\n",
       "      <th>IsActiveMember</th>\n",
       "      <th>EstimatedSalary</th>\n",
       "      <th>Exited</th>\n",
       "    </tr>\n",
       "  </thead>\n",
       "  <tbody>\n",
       "    <tr>\n",
       "      <th>0</th>\n",
       "      <td>1</td>\n",
       "      <td>15634602</td>\n",
       "      <td>Hargrave</td>\n",
       "      <td>619</td>\n",
       "      <td>France</td>\n",
       "      <td>Female</td>\n",
       "      <td>42</td>\n",
       "      <td>2</td>\n",
       "      <td>0.00</td>\n",
       "      <td>1</td>\n",
       "      <td>1</td>\n",
       "      <td>1</td>\n",
       "      <td>101348.88</td>\n",
       "      <td>1</td>\n",
       "    </tr>\n",
       "    <tr>\n",
       "      <th>1</th>\n",
       "      <td>2</td>\n",
       "      <td>15647311</td>\n",
       "      <td>Hill</td>\n",
       "      <td>608</td>\n",
       "      <td>Spain</td>\n",
       "      <td>Female</td>\n",
       "      <td>41</td>\n",
       "      <td>1</td>\n",
       "      <td>83807.86</td>\n",
       "      <td>1</td>\n",
       "      <td>0</td>\n",
       "      <td>1</td>\n",
       "      <td>112542.58</td>\n",
       "      <td>0</td>\n",
       "    </tr>\n",
       "    <tr>\n",
       "      <th>2</th>\n",
       "      <td>3</td>\n",
       "      <td>15619304</td>\n",
       "      <td>Onio</td>\n",
       "      <td>502</td>\n",
       "      <td>France</td>\n",
       "      <td>Female</td>\n",
       "      <td>42</td>\n",
       "      <td>8</td>\n",
       "      <td>159660.80</td>\n",
       "      <td>3</td>\n",
       "      <td>1</td>\n",
       "      <td>0</td>\n",
       "      <td>113931.57</td>\n",
       "      <td>1</td>\n",
       "    </tr>\n",
       "    <tr>\n",
       "      <th>3</th>\n",
       "      <td>4</td>\n",
       "      <td>15701354</td>\n",
       "      <td>Boni</td>\n",
       "      <td>699</td>\n",
       "      <td>France</td>\n",
       "      <td>Female</td>\n",
       "      <td>39</td>\n",
       "      <td>1</td>\n",
       "      <td>0.00</td>\n",
       "      <td>2</td>\n",
       "      <td>0</td>\n",
       "      <td>0</td>\n",
       "      <td>93826.63</td>\n",
       "      <td>0</td>\n",
       "    </tr>\n",
       "    <tr>\n",
       "      <th>4</th>\n",
       "      <td>5</td>\n",
       "      <td>15737888</td>\n",
       "      <td>Mitchell</td>\n",
       "      <td>850</td>\n",
       "      <td>Spain</td>\n",
       "      <td>Female</td>\n",
       "      <td>43</td>\n",
       "      <td>2</td>\n",
       "      <td>125510.82</td>\n",
       "      <td>1</td>\n",
       "      <td>1</td>\n",
       "      <td>1</td>\n",
       "      <td>79084.10</td>\n",
       "      <td>0</td>\n",
       "    </tr>\n",
       "  </tbody>\n",
       "</table>\n",
       "</div>"
      ],
      "text/plain": [
       "   RowNumber  CustomerId   Surname  CreditScore Geography  Gender  Age  \\\n",
       "0          1    15634602  Hargrave          619    France  Female   42   \n",
       "1          2    15647311      Hill          608     Spain  Female   41   \n",
       "2          3    15619304      Onio          502    France  Female   42   \n",
       "3          4    15701354      Boni          699    France  Female   39   \n",
       "4          5    15737888  Mitchell          850     Spain  Female   43   \n",
       "\n",
       "   Tenure    Balance  NumOfProducts  HasCrCard  IsActiveMember  \\\n",
       "0       2       0.00              1          1               1   \n",
       "1       1   83807.86              1          0               1   \n",
       "2       8  159660.80              3          1               0   \n",
       "3       1       0.00              2          0               0   \n",
       "4       2  125510.82              1          1               1   \n",
       "\n",
       "   EstimatedSalary  Exited  \n",
       "0        101348.88       1  \n",
       "1        112542.58       0  \n",
       "2        113931.57       1  \n",
       "3         93826.63       0  \n",
       "4         79084.10       0  "
      ]
     },
     "execution_count": 3,
     "metadata": {},
     "output_type": "execute_result"
    }
   ],
   "source": [
    "dataset.head()"
   ]
  },
  {
   "cell_type": "code",
   "execution_count": 4,
   "metadata": {},
   "outputs": [],
   "source": [
    "X = dataset.iloc[:,3:-1].values\n",
    "y = dataset.iloc[:,-1].values"
   ]
  },
  {
   "cell_type": "code",
   "execution_count": 5,
   "metadata": {},
   "outputs": [
    {
     "name": "stdout",
     "output_type": "stream",
     "text": [
      "[619 'France' 'Female' 42 2 0.0 1 1 1 101348.88]\n"
     ]
    }
   ],
   "source": [
    "print(X[0])"
   ]
  },
  {
   "cell_type": "code",
   "execution_count": 6,
   "metadata": {},
   "outputs": [],
   "source": [
    "from sklearn.preprocessing import LabelEncoder, OneHotEncoder"
   ]
  },
  {
   "cell_type": "code",
   "execution_count": 7,
   "metadata": {},
   "outputs": [],
   "source": [
    "label_encoder_X1 = LabelEncoder()\n",
    "X[:,1] = label_encoder_X1.fit_transform(X[:,1])"
   ]
  },
  {
   "cell_type": "code",
   "execution_count": 8,
   "metadata": {},
   "outputs": [],
   "source": [
    "label_encoder_X2 = LabelEncoder()\n",
    "X[:,2] = label_encoder_X2.fit_transform(X[:,2])"
   ]
  },
  {
   "cell_type": "code",
   "execution_count": 9,
   "metadata": {},
   "outputs": [],
   "source": [
    "one_hot_encoder = OneHotEncoder(categorical_features=[1])"
   ]
  },
  {
   "cell_type": "code",
   "execution_count": 10,
   "metadata": {},
   "outputs": [],
   "source": [
    "X = one_hot_encoder.fit_transform(X).toarray()"
   ]
  },
  {
   "cell_type": "code",
   "execution_count": 11,
   "metadata": {},
   "outputs": [],
   "source": [
    "#To avoid dummy variable trap\n",
    "X = X[:,1:]"
   ]
  },
  {
   "cell_type": "code",
   "execution_count": 12,
   "metadata": {},
   "outputs": [],
   "source": [
    "from sklearn.model_selection import train_test_split"
   ]
  },
  {
   "cell_type": "code",
   "execution_count": 13,
   "metadata": {},
   "outputs": [],
   "source": [
    "X_train, X_test, y_train, y_test = train_test_split(X, y, test_size=0.2, random_state=42)"
   ]
  },
  {
   "cell_type": "code",
   "execution_count": 14,
   "metadata": {},
   "outputs": [],
   "source": [
    "from sklearn.preprocessing import StandardScaler"
   ]
  },
  {
   "cell_type": "code",
   "execution_count": 15,
   "metadata": {},
   "outputs": [],
   "source": [
    "scaler = StandardScaler()"
   ]
  },
  {
   "cell_type": "code",
   "execution_count": 16,
   "metadata": {},
   "outputs": [],
   "source": [
    "X_train = scaler.fit_transform(X_train)\n",
    "X_test = scaler.transform(X_test)"
   ]
  },
  {
   "cell_type": "code",
   "execution_count": 17,
   "metadata": {},
   "outputs": [
    {
     "name": "stdout",
     "output_type": "stream",
     "text": [
      "Shape of training set (8000, 11)\n"
     ]
    }
   ],
   "source": [
    "print('Shape of training set {}'.format(X_train.shape))"
   ]
  },
  {
   "cell_type": "code",
   "execution_count": 18,
   "metadata": {},
   "outputs": [
    {
     "name": "stderr",
     "output_type": "stream",
     "text": [
      "/Users/tari/anaconda3/lib/python3.6/site-packages/h5py/__init__.py:36: FutureWarning: Conversion of the second argument of issubdtype from `float` to `np.floating` is deprecated. In future, it will be treated as `np.float64 == np.dtype(float).type`.\n",
      "  from ._conv import register_converters as _register_converters\n"
     ]
    }
   ],
   "source": [
    "from tensorflow.python.keras.models import Sequential\n",
    "from tensorflow.python.keras.layers import Dense"
   ]
  },
  {
   "cell_type": "code",
   "execution_count": 19,
   "metadata": {},
   "outputs": [],
   "source": [
    "classifier = Sequential()"
   ]
  },
  {
   "cell_type": "code",
   "execution_count": 20,
   "metadata": {},
   "outputs": [],
   "source": [
    "#1st hidden layer\n",
    "classifier.add(Dense(input_dim= 11, units= 6, kernel_initializer='uniform', activation='relu'))"
   ]
  },
  {
   "cell_type": "code",
   "execution_count": 21,
   "metadata": {},
   "outputs": [],
   "source": [
    "#2nd hidden layer\n",
    "classifier.add(Dense(units= 6, kernel_initializer='uniform', activation='relu'))"
   ]
  },
  {
   "cell_type": "code",
   "execution_count": 22,
   "metadata": {},
   "outputs": [],
   "source": [
    "#Output layer\n",
    "classifier.add(Dense(units= 1, kernel_initializer='uniform', activation='sigmoid'))"
   ]
  },
  {
   "cell_type": "code",
   "execution_count": 23,
   "metadata": {},
   "outputs": [],
   "source": [
    "#Compile the model with certain hyperparameters\n",
    "classifier.compile(optimizer='adam', loss='binary_crossentropy', metrics=['accuracy'])"
   ]
  },
  {
   "cell_type": "code",
   "execution_count": 24,
   "metadata": {
    "scrolled": true
   },
   "outputs": [
    {
     "name": "stdout",
     "output_type": "stream",
     "text": [
      "Epoch 1/100\n",
      "8000/8000 [==============================]8000/8000 [==============================] - 2s 274us/step - loss: 1.2704 - acc: 0.6518\n",
      "\n",
      "Epoch 2/100\n",
      "8000/8000 [==============================]8000/8000 [==============================] - 2s 204us/step - loss: 0.5028 - acc: 0.7957\n",
      "\n",
      "Epoch 3/100\n",
      "8000/8000 [==============================]8000/8000 [==============================] - 2s 206us/step - loss: 0.4685 - acc: 0.8014\n",
      "\n",
      "Epoch 4/100\n",
      "8000/8000 [==============================]8000/8000 [==============================] - 2s 231us/step - loss: 0.4576 - acc: 0.8040 0s - loss: 0.4523\n",
      "\n",
      "Epoch 5/100\n",
      "8000/8000 [==============================]8000/8000 [==============================] - 2s 242us/step - loss: 0.4537 - acc: 0.8042\n",
      "\n",
      "Epoch 6/100\n",
      "8000/8000 [==============================]8000/8000 [==============================] - 2s 212us/step - loss: 0.4497 - acc: 0.8055\n",
      "\n",
      "Epoch 7/100\n",
      "8000/8000 [==============================]8000/8000 [==============================] - 2s 213us/step - loss: 0.4450 - acc: 0.8066\n",
      "\n",
      "Epoch 8/100\n",
      "8000/8000 [==============================]8000/8000 [==============================] - 2s 213us/step - loss: 0.4390 - acc: 0.8104\n",
      "\n",
      "Epoch 9/100\n",
      "8000/8000 [==============================]8000/8000 [==============================] - 2s 213us/step - loss: 0.4338 - acc: 0.811200 [==============>...............] - ETA: 0s - loss: 0.44\n",
      "\n",
      "Epoch 10/100\n",
      "8000/8000 [==============================]8000/8000 [==============================] - 2s 243us/step - loss: 0.4261 - acc: 0.8150\n",
      "\n",
      "Epoch 11/100\n",
      "8000/8000 [==============================]8000/8000 [==============================] - 2s 233us/step - loss: 0.4178 - acc: 0.8200\n",
      "\n",
      "Epoch 12/100\n",
      "8000/8000 [==============================]8000/8000 [==============================] - 2s 210us/step - loss: 0.4080 - acc: 0.8261\n",
      "\n",
      "Epoch 13/100\n",
      "8000/8000 [==============================]8000/8000 [==============================] - 2s 211us/step - loss: 0.3958 - acc: 0.8312\n",
      "\n",
      "Epoch 14/100\n",
      "8000/8000 [==============================]8000/8000 [==============================] - 2s 212us/step - loss: 0.3833 - acc: 0.8382\n",
      "\n",
      "Epoch 15/100\n",
      "8000/8000 [==============================]8000/8000 [==============================] - 2s 213us/step - loss: 0.3714 - acc: 0.8446\n",
      "\n",
      "Epoch 16/100\n",
      "8000/8000 [==============================]8000/8000 [==============================] - 2s 211us/step - loss: 0.3603 - acc: 0.8510\n",
      "\n",
      "Epoch 17/100\n",
      "8000/8000 [==============================]8000/8000 [==============================] - 2s 215us/step - loss: 0.3538 - acc: 0.8565\n",
      "\n",
      "Epoch 18/100\n",
      "8000/8000 [==============================]8000/8000 [==============================] - 2s 213us/step - loss: 0.3501 - acc: 0.856200 [===============>..............] - ETA: 0s - loss: 0.35\n",
      "\n",
      "Epoch 19/100\n",
      "8000/8000 [==============================]8000/8000 [==============================] - 2s 213us/step - loss: 0.3477 - acc: 0.8592\n",
      "\n",
      "Epoch 20/100\n",
      "8000/8000 [==============================]8000/8000 [==============================] - 2s 213us/step - loss: 0.3460 - acc: 0.8581\n",
      "\n",
      "Epoch 21/100\n",
      "8000/8000 [==============================]8000/8000 [==============================] - 2s 214us/step - loss: 0.3438 - acc: 0.8590\n",
      "\n",
      "Epoch 22/100\n",
      "8000/8000 [==============================]8000/8000 [==============================] - 2s 260us/step - loss: 0.3430 - acc: 0.859700 [========>.....................] - ETA: 1s \n",
      "\n",
      "Epoch 23/100\n",
      "8000/8000 [==============================]8000/8000 [==============================] - 2s 222us/step - loss: 0.3425 - acc: 0.858200 [======>.......................] - ETA: 1s - l\n",
      "\n",
      "Epoch 24/100\n",
      "8000/8000 [==============================]8000/8000 [==============================] - 2s 211us/step - loss: 0.3421 - acc: 0.8597\n",
      "\n",
      "Epoch 25/100\n",
      "8000/8000 [==============================]8000/8000 [==============================] - 2s 209us/step - loss: 0.3409 - acc: 0.8606\n",
      "\n",
      "Epoch 26/100\n",
      "8000/8000 [==============================]8000/8000 [==============================] - 2s 212us/step - loss: 0.3402 - acc: 0.8602\n",
      "\n",
      "Epoch 27/100\n",
      "8000/8000 [==============================]8000/8000 [==============================] - 2s 238us/step - loss: 0.3401 - acc: 0.8627\n",
      "\n",
      "Epoch 28/100\n",
      "8000/8000 [==============================]8000/8000 [==============================] - 2s 259us/step - loss: 0.3397 - acc: 0.8606\n",
      "\n",
      "Epoch 29/100\n",
      "8000/8000 [==============================]8000/8000 [==============================] - 2s 214us/step - loss: 0.3385 - acc: 0.8611\n",
      "\n",
      "Epoch 30/100\n",
      "8000/8000 [==============================]8000/8000 [==============================] - 2s 211us/step - loss: 0.3387 - acc: 0.8597\n",
      "\n",
      "Epoch 31/100\n",
      "8000/8000 [==============================]8000/8000 [==============================] - 2s 208us/step - loss: 0.3380 - acc: 0.8611\n",
      "\n",
      "Epoch 32/100\n",
      "8000/8000 [==============================]8000/8000 [==============================] - 2s 204us/step - loss: 0.3384 - acc: 0.8614\n",
      "\n",
      "Epoch 33/100\n",
      "8000/8000 [==============================]8000/8000 [==============================] - 2s 213us/step - loss: 0.3372 - acc: 0.8625\n",
      "\n",
      "Epoch 34/100\n",
      "8000/8000 [==============================]8000/8000 [==============================] - 2s 213us/step - loss: 0.3373 - acc: 0.8604\n",
      "\n",
      "Epoch 35/100\n",
      "8000/8000 [==============================]8000/8000 [==============================] - 2s 210us/step - loss: 0.3370 - acc: 0.8615\n",
      "\n",
      "Epoch 36/100\n",
      "8000/8000 [==============================]8000/8000 [==============================] - 2s 260us/step - loss: 0.3368 - acc: 0.8625\n",
      "\n",
      "Epoch 37/100\n",
      "8000/8000 [==============================]8000/8000 [==============================] - 2s 266us/step - loss: 0.3356 - acc: 0.8622\n",
      "\n",
      "Epoch 38/100\n",
      "8000/8000 [==============================]8000/8000 [==============================] - 2s 233us/step - loss: 0.3365 - acc: 0.8614\n",
      "\n",
      "Epoch 39/100\n",
      "8000/8000 [==============================]8000/8000 [==============================] - 2s 205us/step - loss: 0.3355 - acc: 0.8636\n",
      "\n",
      "Epoch 40/100\n",
      "8000/8000 [==============================]8000/8000 [==============================] - 2s 212us/step - loss: 0.3357 - acc: 0.8616\n",
      "\n",
      "Epoch 41/100\n",
      "8000/8000 [==============================]8000/8000 [==============================] - 2s 214us/step - loss: 0.3359 - acc: 0.8627 0s - loss: 0.3355 - acc: 0.8\n",
      "\n",
      "Epoch 42/100\n",
      "8000/8000 [==============================]8000/8000 [==============================] - 2s 210us/step - loss: 0.3356 - acc: 0.8612\n",
      "\n",
      "Epoch 43/100\n",
      "8000/8000 [==============================]8000/8000 [==============================] - 2s 213us/step - loss: 0.3353 - acc: 0.860200 [=======================>......] - ETA: 0s - loss: 0.3328 - acc:\n",
      "\n",
      "Epoch 44/100\n",
      "8000/8000 [==============================]8000/8000 [==============================] - 2s 212us/step - loss: 0.3347 - acc: 0.863900 [==========================>...] - ETA: 0s - loss: 0.3332 - acc: 0.\n",
      "\n",
      "Epoch 45/100\n",
      "8000/8000 [==============================]8000/8000 [==============================] - 2s 211us/step - loss: 0.3350 - acc: 0.8622\n",
      "\n",
      "Epoch 46/100\n",
      "8000/8000 [==============================]8000/8000 [==============================] - 2s 216us/step - loss: 0.3346 - acc: 0.863700 [====================>.........] - ETA: 0s - loss: 0.3301 - a\n",
      "\n",
      "Epoch 47/100\n",
      "8000/8000 [==============================]8000/8000 [==============================] - 2s 226us/step - loss: 0.3341 - acc: 0.8627\n",
      "\n",
      "Epoch 48/100\n",
      "8000/8000 [==============================]8000/8000 [==============================] - 2s 273us/step - loss: 0.3342 - acc: 0.8635\n",
      "\n",
      "Epoch 49/100\n",
      "8000/8000 [==============================]8000/8000 [==============================] - 2s 231us/step - loss: 0.3338 - acc: 0.8637\n",
      "\n",
      "Epoch 50/100\n",
      "8000/8000 [==============================]8000/8000 [==============================] - 2s 218us/step - loss: 0.3336 - acc: 0.8634\n",
      "\n",
      "Epoch 51/100\n",
      "8000/8000 [==============================]8000/8000 [==============================] - 2s 213us/step - loss: 0.3341 - acc: 0.8630\n",
      "\n",
      "Epoch 52/100\n",
      "8000/8000 [==============================]8000/8000 [==============================] - 2s 210us/step - loss: 0.3342 - acc: 0.8641 0s - loss: 0.3363 - acc: 0.\n",
      "\n",
      "Epoch 53/100\n",
      "8000/8000 [==============================]8000/8000 [==============================] - 2s 214us/step - loss: 0.3337 - acc: 0.8642 \n",
      "\n",
      "Epoch 54/100\n"
     ]
    },
    {
     "name": "stdout",
     "output_type": "stream",
     "text": [
      "8000/8000 [==============================]8000/8000 [==============================] - 2s 201us/step - loss: 0.3335 - acc: 0.8644\n",
      "\n",
      "Epoch 55/100\n",
      "8000/8000 [==============================]8000/8000 [==============================] - 2s 203us/step - loss: 0.3337 - acc: 0.8654\n",
      "\n",
      "Epoch 56/100\n",
      "8000/8000 [==============================]8000/8000 [==============================] - 2s 203us/step - loss: 0.3334 - acc: 0.8650\n",
      "\n",
      "Epoch 57/100\n",
      "8000/8000 [==============================]8000/8000 [==============================] - 2s 203us/step - loss: 0.3332 - acc: 0.8650\n",
      "\n",
      "Epoch 58/100\n",
      "8000/8000 [==============================]8000/8000 [==============================] - 2s 205us/step - loss: 0.3331 - acc: 0.8660\n",
      "\n",
      "Epoch 59/100\n",
      "8000/8000 [==============================]8000/8000 [==============================] - 2s 223us/step - loss: 0.3329 - acc: 0.8644 0s - loss: 0.3325 - acc: 0\n",
      "\n",
      "Epoch 60/100\n",
      "8000/8000 [==============================]8000/8000 [==============================] - 2s 233us/step - loss: 0.3330 - acc: 0.8661\n",
      "\n",
      "Epoch 61/100\n",
      "8000/8000 [==============================]8000/8000 [==============================] - 2s 203us/step - loss: 0.3334 - acc: 0.8651\n",
      "\n",
      "Epoch 62/100\n",
      "8000/8000 [==============================]8000/8000 [==============================] - 2s 205us/step - loss: 0.3325 - acc: 0.8672\n",
      "\n",
      "Epoch 63/100\n",
      "8000/8000 [==============================]8000/8000 [==============================] - 2s 205us/step - loss: 0.3326 - acc: 0.8667\n",
      "\n",
      "Epoch 64/100\n",
      "8000/8000 [==============================]8000/8000 [==============================] - 2s 202us/step - loss: 0.3324 - acc: 0.8660\n",
      "\n",
      "Epoch 65/100\n",
      "8000/8000 [==============================]8000/8000 [==============================] - 2s 223us/step - loss: 0.3331 - acc: 0.8660\n",
      "\n",
      "Epoch 66/100\n",
      "8000/8000 [==============================]8000/8000 [==============================] - 2s 235us/step - loss: 0.3322 - acc: 0.8670\n",
      "\n",
      "Epoch 67/100\n",
      "8000/8000 [==============================]8000/8000 [==============================] - 2s 202us/step - loss: 0.3330 - acc: 0.8666\n",
      "\n",
      "Epoch 68/100\n",
      "8000/8000 [==============================]8000/8000 [==============================] - 2s 200us/step - loss: 0.3324 - acc: 0.8646\n",
      "\n",
      "Epoch 69/100\n",
      "8000/8000 [==============================]8000/8000 [==============================] - 2s 201us/step - loss: 0.3326 - acc: 0.8651\n",
      "\n",
      "Epoch 70/100\n",
      "8000/8000 [==============================]8000/8000 [==============================] - 2s 205us/step - loss: 0.3327 - acc: 0.8645\n",
      "\n",
      "Epoch 71/100\n",
      "8000/8000 [==============================]8000/8000 [==============================] - 2s 204us/step - loss: 0.3320 - acc: 0.8649\n",
      "\n",
      "Epoch 72/100\n",
      "8000/8000 [==============================]8000/8000 [==============================] - 2s 209us/step - loss: 0.3332 - acc: 0.8666\n",
      "\n",
      "Epoch 73/100\n",
      "8000/8000 [==============================]8000/8000 [==============================] - 2s 205us/step - loss: 0.3321 - acc: 0.8670\n",
      "\n",
      "Epoch 74/100\n",
      "8000/8000 [==============================]8000/8000 [==============================] - 2s 206us/step - loss: 0.3326 - acc: 0.8642\n",
      "\n",
      "Epoch 75/100\n",
      "8000/8000 [==============================]8000/8000 [==============================] - 2s 205us/step - loss: 0.3318 - acc: 0.8666\n",
      "\n",
      "Epoch 76/100\n",
      "8000/8000 [==============================]8000/8000 [==============================] - 2s 209us/step - loss: 0.3324 - acc: 0.8652\n",
      "\n",
      "Epoch 77/100\n",
      "8000/8000 [==============================]8000/8000 [==============================] - 2s 222us/step - loss: 0.3323 - acc: 0.8642\n",
      "\n",
      "Epoch 78/100\n",
      "8000/8000 [==============================]8000/8000 [==============================] - 2s 246us/step - loss: 0.3329 - acc: 0.8651\n",
      "\n",
      "Epoch 79/100\n",
      "8000/8000 [==============================]8000/8000 [==============================] - 2s 211us/step - loss: 0.3323 - acc: 0.8645\n",
      "\n",
      "Epoch 80/100\n",
      "8000/8000 [==============================]8000/8000 [==============================] - 2s 205us/step - loss: 0.3322 - acc: 0.8657\n",
      "\n",
      "Epoch 81/100\n",
      "8000/8000 [==============================]8000/8000 [==============================] - 2s 206us/step - loss: 0.3321 - acc: 0.8661\n",
      "\n",
      "Epoch 82/100\n",
      "8000/8000 [==============================]8000/8000 [==============================] - 2s 207us/step - loss: 0.3322 - acc: 0.8652\n",
      "\n",
      "Epoch 83/100\n",
      "8000/8000 [==============================]8000/8000 [==============================] - 2s 224us/step - loss: 0.3327 - acc: 0.8645\n",
      "\n",
      "Epoch 84/100\n",
      "8000/8000 [==============================]8000/8000 [==============================] - 2s 250us/step - loss: 0.3323 - acc: 0.8666\n",
      "\n",
      "Epoch 85/100\n",
      "8000/8000 [==============================]8000/8000 [==============================] - 2s 203us/step - loss: 0.3323 - acc: 0.8660\n",
      "\n",
      "Epoch 86/100\n",
      "8000/8000 [==============================]8000/8000 [==============================] - 2s 205us/step - loss: 0.3321 - acc: 0.8652\n",
      "\n",
      "Epoch 87/100\n",
      "8000/8000 [==============================]8000/8000 [==============================] - 2s 203us/step - loss: 0.3321 - acc: 0.8650\n",
      "\n",
      "Epoch 88/100\n",
      "8000/8000 [==============================]8000/8000 [==============================] - 2s 203us/step - loss: 0.3323 - acc: 0.8664\n",
      "\n",
      "Epoch 89/100\n",
      "8000/8000 [==============================]8000/8000 [==============================] - 2s 203us/step - loss: 0.3321 - acc: 0.8661\n",
      "\n",
      "Epoch 90/100\n",
      "8000/8000 [==============================]8000/8000 [==============================] - 2s 202us/step - loss: 0.3318 - acc: 0.8656\n",
      "\n",
      "Epoch 91/100\n",
      "8000/8000 [==============================]8000/8000 [==============================] - 2s 205us/step - loss: 0.3315 - acc: 0.8651\n",
      "\n",
      "Epoch 92/100\n",
      "8000/8000 [==============================]8000/8000 [==============================] - 2s 205us/step - loss: 0.3325 - acc: 0.8662\n",
      "\n",
      "Epoch 93/100\n",
      "8000/8000 [==============================]8000/8000 [==============================] - 2s 207us/step - loss: 0.3323 - acc: 0.8654\n",
      "\n",
      "Epoch 94/100\n",
      "8000/8000 [==============================]8000/8000 [==============================] - 2s 229us/step - loss: 0.3317 - acc: 0.8649\n",
      "\n",
      "Epoch 95/100\n",
      "8000/8000 [==============================]8000/8000 [==============================] - 2s 244us/step - loss: 0.3320 - acc: 0.8661\n",
      "\n",
      "Epoch 96/100\n",
      "8000/8000 [==============================]8000/8000 [==============================] - 2s 280us/step - loss: 0.3316 - acc: 0.8649\n",
      "\n",
      "Epoch 97/100\n",
      "8000/8000 [==============================]8000/8000 [==============================] - 2s 240us/step - loss: 0.3320 - acc: 0.8640\n",
      "\n",
      "Epoch 98/100\n",
      "8000/8000 [==============================]8000/8000 [==============================] - 2s 236us/step - loss: 0.3311 - acc: 0.8662\n",
      "\n",
      "Epoch 99/100\n",
      "8000/8000 [==============================]8000/8000 [==============================] - 2s 227us/step - loss: 0.3324 - acc: 0.8662\n",
      "\n",
      "Epoch 100/100\n",
      "8000/8000 [==============================]8000/8000 [==============================] - 2s 229us/step - loss: 0.3321 - acc: 0.865200 [======================>.......] - ETA: 0s - loss: 0.3304 - acc\n",
      "\n"
     ]
    },
    {
     "data": {
      "text/plain": [
       "<tensorflow.python.keras._impl.keras.callbacks.History at 0x1a2022ad30>"
      ]
     },
     "execution_count": 24,
     "metadata": {},
     "output_type": "execute_result"
    }
   ],
   "source": [
    "classifier.fit(X_train, y_train, batch_size=10, epochs=100, n_jobs=-1)"
   ]
  },
  {
   "cell_type": "code",
   "execution_count": 25,
   "metadata": {},
   "outputs": [],
   "source": [
    "#Testing the model performance on a testing set\n",
    "y_pred = classifier.predict(X_test)"
   ]
  },
  {
   "cell_type": "code",
   "execution_count": 26,
   "metadata": {},
   "outputs": [],
   "source": [
    "y_pred = y_pred > 0.5"
   ]
  },
  {
   "cell_type": "code",
   "execution_count": 27,
   "metadata": {},
   "outputs": [],
   "source": [
    "from sklearn.metrics import confusion_matrix, f1_score, accuracy_score"
   ]
  },
  {
   "cell_type": "code",
   "execution_count": 28,
   "metadata": {},
   "outputs": [
    {
     "data": {
      "text/plain": [
       "array([[1550,   57],\n",
       "       [ 214,  179]])"
      ]
     },
     "execution_count": 28,
     "metadata": {},
     "output_type": "execute_result"
    }
   ],
   "source": [
    "confusion_matrix(y_test, y_pred)"
   ]
  },
  {
   "cell_type": "code",
   "execution_count": 29,
   "metadata": {},
   "outputs": [
    {
     "name": "stdout",
     "output_type": "stream",
     "text": [
      "f1 score  0.5691573926868045\n"
     ]
    }
   ],
   "source": [
    "print('f1 score ', f1_score(y_test, y_pred))"
   ]
  },
  {
   "cell_type": "code",
   "execution_count": 30,
   "metadata": {},
   "outputs": [
    {
     "name": "stdout",
     "output_type": "stream",
     "text": [
      "Accuracy score  0.8645\n"
     ]
    }
   ],
   "source": [
    "print('Accuracy score ', accuracy_score(y_test, y_pred))"
   ]
  },
  {
   "cell_type": "markdown",
   "metadata": {},
   "source": [
    "# Single prediction\n",
    " - Geography: France\n",
    " - Credit Score: 600\n",
    " - Gender: Male\n",
    " - Age: 40 years old\n",
    " - Tenure: 3 years\n",
    " - Balance: 60000 USD\n",
    " - Number of Products: 2\n",
    " - Does this customer have a credit card ? Yes\n",
    " - Is this customer an Active Member: Yes\n",
    " - Estimated Salary: $50000"
   ]
  },
  {
   "cell_type": "code",
   "execution_count": 31,
   "metadata": {},
   "outputs": [],
   "source": [
    "single_pred = pd.Series([600, 'France', 'Male', 40, 3, 60000, 2, 1, 1, 50000])"
   ]
  },
  {
   "cell_type": "code",
   "execution_count": 32,
   "metadata": {},
   "outputs": [
    {
     "data": {
      "text/plain": [
       "array([[600, 'France', 'Male', 40, 3, 60000, 2, 1, 1, 50000]],\n",
       "      dtype=object)"
      ]
     },
     "execution_count": 32,
     "metadata": {},
     "output_type": "execute_result"
    }
   ],
   "source": [
    "X_single = single_pred.values\n",
    "X_single = np.reshape(X_single, (1,10))\n",
    "X_single"
   ]
  },
  {
   "cell_type": "code",
   "execution_count": 33,
   "metadata": {},
   "outputs": [],
   "source": [
    "X_single[:,1] = label_encoder_X1.transform(X_single[:,1])\n",
    "X_single[:,2] = label_encoder_X2.transform(X_single[:,2])"
   ]
  },
  {
   "cell_type": "code",
   "execution_count": 34,
   "metadata": {},
   "outputs": [],
   "source": [
    "X_single = one_hot_encoder.transform(X_single).toarray()\n",
    "X_single = X_single[:,1:]"
   ]
  },
  {
   "cell_type": "code",
   "execution_count": 35,
   "metadata": {},
   "outputs": [
    {
     "data": {
      "text/plain": [
       "array([[0.e+00, 0.e+00, 6.e+02, 1.e+00, 4.e+01, 3.e+00, 6.e+04, 2.e+00,\n",
       "        1.e+00, 1.e+00, 5.e+04]])"
      ]
     },
     "execution_count": 35,
     "metadata": {},
     "output_type": "execute_result"
    }
   ],
   "source": [
    "X_single"
   ]
  },
  {
   "cell_type": "code",
   "execution_count": 38,
   "metadata": {},
   "outputs": [],
   "source": [
    "#Scaling\n",
    "X_single = scaler.transform(X_single)"
   ]
  },
  {
   "cell_type": "code",
   "execution_count": 39,
   "metadata": {},
   "outputs": [
    {
     "data": {
      "text/plain": [
       "array([[-0.57946723, -0.57638802, -0.53598516,  0.91324755,  0.10479359,\n",
       "        -0.69539349, -0.25781119,  0.80843615,  0.64920267,  0.97481699,\n",
       "        -0.87683221]])"
      ]
     },
     "execution_count": 39,
     "metadata": {},
     "output_type": "execute_result"
    }
   ],
   "source": [
    "X_single"
   ]
  },
  {
   "cell_type": "code",
   "execution_count": 40,
   "metadata": {},
   "outputs": [],
   "source": [
    "y_single = classifier.predict(X_single)"
   ]
  },
  {
   "cell_type": "code",
   "execution_count": 43,
   "metadata": {},
   "outputs": [],
   "source": [
    "y_single = y_single > 0.5"
   ]
  },
  {
   "cell_type": "code",
   "execution_count": 44,
   "metadata": {},
   "outputs": [
    {
     "data": {
      "text/plain": [
       "array([[False]])"
      ]
     },
     "execution_count": 44,
     "metadata": {},
     "output_type": "execute_result"
    }
   ],
   "source": [
    "y_single"
   ]
  },
  {
   "cell_type": "code",
   "execution_count": null,
   "metadata": {},
   "outputs": [],
   "source": [
    "#No"
   ]
  }
 ],
 "metadata": {
  "kernelspec": {
   "display_name": "Python 3",
   "language": "python",
   "name": "python3"
  },
  "language_info": {
   "codemirror_mode": {
    "name": "ipython",
    "version": 3
   },
   "file_extension": ".py",
   "mimetype": "text/x-python",
   "name": "python",
   "nbconvert_exporter": "python",
   "pygments_lexer": "ipython3",
   "version": "3.6.5"
  }
 },
 "nbformat": 4,
 "nbformat_minor": 2
}
